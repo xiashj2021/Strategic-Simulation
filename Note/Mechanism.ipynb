{
 "cells": [
  {
   "cell_type": "markdown",
   "metadata": {},
   "source": [
    "*** \n",
    "<font face='Times New Roman' size='5'><p style='text-align:center'>**Lanzhou University Strategy Simulation System**</p></font>\n",
    "<div style='text-align:center'>\n",
    "    <img src='../Element/LZUQYMUNA.png' width=240>\n",
    "</div>\n",
    "<div style='text-align:center'>\n",
    "    <a href='https://github.com/xiashj2021/Strategic-Simulation/blob/main/LICENSE'><img src='https://img.shields.io/badge/License-Apache-blue'></a>\n",
    "    <a href='https://github.com/xiashj2021'><img src='https://img.shields.io/badge/Author-Shengjie_Xia-red'></a>\n",
    "</div>\n",
    "\n",
    "*** "
   ]
  },
  {
   "cell_type": "markdown",
   "metadata": {},
   "source": [
    "# <font face='Times New Roman'>Preparation</font>"
   ]
  },
  {
   "cell_type": "markdown",
   "metadata": {},
   "source": [
    "## <font face='Times New Roman'>*Introduction*</font>"
   ]
  },
  {
   "cell_type": "markdown",
   "metadata": {},
   "source": [
    "<font face='Times New Roman'><p style='text-align:justify'>***Strategy simulation*** is an activity that involves simulating historical events. Players take on the role of historical decision makers and navigate the **political**, **economic**, **military**, **diplomatic**, **public opinion**, and **intelligence** aspects of the game.</p></font>  \n",
    "\n",
    "<font face='Times New Roman'><p style='text-align:justify'>Diplomacy, public opinion, and intelligence content are subject to a more mature ***Model United Nations rules*** of procedure for reference. This activity involves free consultation and organized core consultation mechanisms, with strict norms for document writing.</p></font>  \n",
    "\n",
    "<font face='Times New Roman'><p style='text-align:justify'>For political, economic, military, and other intelligence aspects, we mainly refer to common elements in ***strategy games*** to build relevant mechanisms. The **4X (explore, expand, exploit, exterminate) concept** is specifically addressed, while also incorporating academic research results on measurement methods in related fields to improve the simulation mechanism.</p></font>  \n",
    "\n",
    "<font face='Times New Roman'><p style='text-align:justify'>This project focuses on computer simulation of **numerical computation**. The game interface and subsequent visualization are yet to be explored and developed.</p></font>"
   ]
  },
  {
   "cell_type": "markdown",
   "metadata": {},
   "source": [
    "## <font face='Times New Roman'>*Framework*</font>"
   ]
  },
  {
   "cell_type": "markdown",
   "metadata": {},
   "source": [
    "<font face='Times New Roman'><p style='text-align:justify'>For writing the computation mechanism, we first considered using ***Python*** because of the following properties:</p></font>\n",
    "\n",
    "- <font face='Times New Roman'>Simple syntax, easy to read and write</font>\n",
    "- <font face='Times New Roman'>Rich integration of third-party libraries, easy to call</font>\n",
    "\n",
    "<font face='Times New Roman'><p style='text-align:justify'>Of course, its execution speed is still a big problem, especially when the computation mechanism is more complex. Therefore, the subsequent graphical interface design and the complete program development using other languages to write is also to be considered.</p></font>  \n",
    "\n",
    "<font face='Times New Roman'><p style='text-align:justify'>We mainly use an ***object-oriented*** approach to **encapsulate** each computer system under a large module in a class, which makes it easy to call and also improves the maintainability of the code.</p></font>"
   ]
  },
  {
   "cell_type": "markdown",
   "metadata": {},
   "source": [
    "## <font face='Times New Roman'>*Configuration*</font>"
   ]
  },
  {
   "cell_type": "markdown",
   "metadata": {},
   "source": [
    "<font face='Times New Roman'>\n",
    "\n",
    "In order for the code to run properly, we need to install some third-party libraries, the relevant configuration is as follows:\n",
    "</font>"
   ]
  },
  {
   "cell_type": "code",
   "execution_count": null,
   "metadata": {},
   "outputs": [],
   "source": [
    "# Python version: 3.9.13\n",
    "\n",
    "%pip install matplotlib\n",
    "# install the library Matplotlib\n",
    "\n",
    "from functools import reduce \n",
    "# The reduce() function is invoked to accumulate elements in a sequence.\n",
    "\n",
    "import matplotlib.pyplot as plt \n",
    "# The pyplot method is invoked to create image.\n",
    "\n",
    "from math import ceil \n",
    "# The ceil function is invoked to round values.\n",
    "\n",
    "from os import urandom \n",
    "# The urandom function is invoked to generate real random number."
   ]
  },
  {
   "cell_type": "markdown",
   "metadata": {},
   "source": [
    "# <font face='Times New Roman'>Establishment</font>"
   ]
  },
  {
   "cell_type": "markdown",
   "metadata": {},
   "source": [
    "## <font face='Times New Roman'>*Politics*</font>"
   ]
  },
  {
   "cell_type": "markdown",
   "metadata": {},
   "source": [
    "<font face='Times New Roman'>\n",
    "\n",
    "The main calculation variables in the political section are:\n",
    "</font>\n",
    "\n",
    "- <font face='Times New Roman'>Stability</font>\n",
    "- <font face='Times New Roman'>Government Support</font>\n",
    "- <font face='Times New Roman'>Political Expenditures</font>\n",
    "- <font face='Times New Roman'>Military Expenditures</font>\n",
    "- <font face='Times New Roman'>Labor Expenditures</font>\n",
    "- <font face='Times New Roman'>Domestic Taxes</font>\n"
   ]
  },
  {
   "cell_type": "code",
   "execution_count": null,
   "metadata": {},
   "outputs": [],
   "source": [
    "class Politics(object):\n",
    "    \"\"\"\n",
    "    The Politics module of the strategic simulation system\n",
    "\n",
    "    Attributes:\n",
    "        Stability\n",
    "        Government Support\n",
    "        Political Expenditures\n",
    "        Military Expenditures\n",
    "        Labor Expenditures\n",
    "        Domestic Taxes\n",
    "        Number of Incumbents\n",
    "        Salary of Personnel\n",
    "        Taxpayers\n",
    "        Starting Tax Amount\n",
    "        Personnel Tax Rate\n",
    "        State Policy Pricing\n",
    "        Number of National Policies\n",
    "        Expenditures Buff\n",
    "        Revenue Buff\n",
    "        Global Expenditure Effect\n",
    "        Global Revenue Effect\n",
    "        National Political Characteristics Revision\n",
    "        Government Expenditure Effect\n",
    "        Domestic Taxes Revenue Effect\n",
    "        Extra Domestic Taxes Revenue Effect\n",
    "    \"\"\"\n",
    "    def __init__(\n",
    "            self, stability, government, policy, revision, population, soldier, \n",
    "            soldierpay, salary, tax) -> object:\n",
    "        \"\"\"\n",
    "        This part defines the basic parameters of the politics module.\n",
    "\n",
    "        :param stability: Degree of stability: -50~100 (float)\n",
    "        :param government: Level of government support: 0~100 (float)\n",
    "        :param policy: National policy: \n",
    "            {\n",
    "                Type of State policy \n",
    "                ('Politics', 'Economics', 'Military', 'Intelligence'): \n",
    "                Policy level (1, 2, 3, 4, 5)), ...\n",
    "            } \n",
    "            (dict)\n",
    "        :param revision: Policy implementation cost revisions (float)\n",
    "        :param population: The population of the country \n",
    "            (in 10,000 persons)(float)\n",
    "        :param soldier: Number of soldiers (in 10,000 persons) (float)\n",
    "        :param soldierpay: Pay and provisions for soldiers (float)\n",
    "        :param salary: Salaries of civil servants (float)\n",
    "        :param tax: Personal income tax rate (float)\n",
    "        \"\"\"\n",
    "        ...\n",
    "    def implementation(self) -> list:\n",
    "        \"\"\"\n",
    "        This section defines the specific mechanics of policy implementation.\n",
    "\n",
    "        :return: \n",
    "            stability, social expenditure (policy, military, and employee), \n",
    "            Internal revenue, Effects of stability values\n",
    "        \"\"\"\n",
    "        ...\n",
    "        def add_effect(factor, value):\n",
    "            \"\"\"\n",
    "            This nested function defines the storage operation \n",
    "            for the effect corresponding to the stabilization level.\n",
    "\n",
    "            :param factor: Aspects of the effect of stabilization (str)\n",
    "            :param value: Specific effects value (float)\n",
    "            \"\"\"\n",
    "            ...\n",
    "        def unrest(level, percent):\n",
    "            \"\"\"\n",
    "            This nested function defines the generation \n",
    "            of turbulence events and their random effects.\n",
    "            \n",
    "            :param level: The level of the destabilizing event (int)\n",
    "            :param percent: \n",
    "                The probability of the occurrence of a destabilizing event \n",
    "                (float)\n",
    "            \"\"\"\n",
    "            ...\n",
    "        def stability_production(value):\n",
    "            \"\"\"\n",
    "            This nested function defines the natural output \n",
    "            of stabilization per turn.\n",
    "\n",
    "            :param value: \n",
    "                The value of government support for the current turn (float)\n",
    "            \"\"\"\n",
    "            ...\n",
    "        ..."
   ]
  },
  {
   "cell_type": "markdown",
   "metadata": {},
   "source": [
    "### <font face='Times New Roman'>*Stability*</font>"
   ]
  },
  {
   "cell_type": "markdown",
   "metadata": {},
   "source": [
    "<font face='Times New Roman'>**Let**:</font>\n",
    "\n",
    "- <font face='Times New Roman'>Natural output of ***stability*** in **this round**</font> —> $\\vartheta$\n",
    "- <font face='Times New Roman'>Degree of ***government support*** in the **last round**</font> —> $\\delta$\n",
    "\n",
    "$$\n",
    "\\vartheta = \\left\\{\n",
    "  \\begin{array}{ll}\n",
    "    \\delta / 2 & \\text{if } \\delta \\geq 50 \\\\\n",
    "    (\\delta - 50) / 2 & \\text{if } 0 < \\delta < 50\n",
    "  \\end{array}\n",
    "\\right.\n",
    "$$"
   ]
  },
  {
   "cell_type": "markdown",
   "metadata": {},
   "source": [
    "### <font face='Times New Roman'>*Labor/Military Expenditures*</font>"
   ]
  },
  {
   "cell_type": "markdown",
   "metadata": {},
   "source": [
    "<font face='Times New Roman'>**Let**:</font>\n",
    "\n",
    "- <font face='Times New Roman'>***Expenditures***</font> —> $\\gamma$\n",
    "- <font face='Times New Roman'>**Number** of ***incumbents***</font> —> $n$\n",
    "- <font face='Times New Roman'>***Salary*** of **personnel**</font> —> $s$\n",
    "\n",
    "$$\n",
    "\\gamma = n \\cdot s\n",
    "$$"
   ]
  },
  {
   "cell_type": "markdown",
   "metadata": {},
   "source": [
    "### <font face='Times New Roman'>*Domestic Taxes*</font>"
   ]
  },
  {
   "cell_type": "markdown",
   "metadata": {},
   "source": [
    "<font face='Times New Roman'>**Let**:</font>\n",
    "\n",
    "- <font face='Times New Roman'>***Revenue***</font> —> $\\lambda$\n",
    "- <font face='Times New Roman'>***Taxpayers***</font> —> $t$\n",
    "- <font face='Times New Roman'>**Starting** ***tax amount***</font> —> $\\alpha$\n",
    "- <font face='Times New Roman'>***Tax rate***</font> —> $r$\n",
    "\n",
    "$$\n",
    "\\lambda = t \\cdot \\alpha \\cdot r\n",
    "$$"
   ]
  },
  {
   "cell_type": "markdown",
   "metadata": {},
   "source": [
    "### <font face='Times New Roman'>*Political Expenditures*</font>"
   ]
  },
  {
   "cell_type": "markdown",
   "metadata": {},
   "source": [
    "<font face='Times New Roman'>**Let**:</font>\n",
    "\n",
    "- <font face='Times New Roman'>***Expenditures***</font> —> $\\varphi$\n",
    "- <font face='Times New Roman'>**Number** of ***national policies***</font> —> $\\eta$\n",
    "- <font face='Times New Roman'>**State policy** ***pricing***</font> —> $p$\n",
    "\n",
    "$$\n",
    "\\varphi = \\sum_{i=1}^{\\eta}{p_{i}}\n",
    "$$"
   ]
  },
  {
   "cell_type": "markdown",
   "metadata": {},
   "source": [
    "### <font face='Times New Roman'>*Buff*</font>"
   ]
  },
  {
   "cell_type": "markdown",
   "metadata": {},
   "source": [
    "<font face='Times New Roman'>**Let**:</font>\n",
    "\n",
    "- <font face='Times New Roman'>***Expenditures buff***</font> —> $e$\n",
    "- <font face='Times New Roman'>***Revenue buff***</font> —> $r$\n",
    "- <font face='Times New Roman'>***Global expenditure*** **effect**</font> —> $\\varepsilon$\n",
    "- <font face='Times New Roman'>***Global revenue*** **effect**</font> —> $\\mu$\n",
    "- <font face='Times New Roman'>National ***political characteristics*** **revision**</font> —> $\\omega$\n",
    "- <font face='Times New Roman'>***Government expenditure*** **effect**</font> —> $\\varepsilon_{g}$\n",
    "- <font face='Times New Roman'>***Domestic taxes revenue*** **effect**</font> —> $\\mu_{d}$\n",
    "- <font face='Times New Roman'>***Extra domestic taxes revenue*** **effect**</font> —> $\\mu_{ed}$\n",
    "\n",
    "$$\n",
    "e_{government} = (1 + \\varepsilon _{g} + \\varepsilon) \\cdot (1 + \\omega) \\\\\n",
    "e_{military} = 1 + \\varepsilon \\\\\n",
    "r = (1 + \\mu + \\mu _{d}) \\cdot (1 + \\mu _{ed})\n",
    "$$"
   ]
  },
  {
   "cell_type": "markdown",
   "metadata": {},
   "source": [
    "## <font face='Times New Roman'>*Economy*</font>"
   ]
  },
  {
   "cell_type": "markdown",
   "metadata": {},
   "source": [
    "<font face='Times New Roman'>\n",
    "\n",
    "The main calculation variables in the economic section are:\n",
    "</font>\n",
    "\n",
    "- <font face='Times New Roman'>Production</font>\n",
    "- <font face='Times New Roman'>Construction Expenditures</font>\n",
    "- <font face='Times New Roman'>Restoration Expenditures</font>\n",
    "- <font face='Times New Roman'>National Product Demand</font>\n",
    "- <font face='Times New Roman'>Military Training Demand</font>\n",
    "- <font face='Times New Roman'>Logistic Demand</font>\n",
    "- <font face='Times New Roman'>Import Tariff</font>"
   ]
  },
  {
   "cell_type": "code",
   "execution_count": null,
   "metadata": {},
   "outputs": [],
   "source": [
    "class Economy(object):\n",
    "    \"\"\"\n",
    "    The Economy module of the strategic simulation system\n",
    "\n",
    "    Attributes:\n",
    "        Production\n",
    "        Construction Expenditures\n",
    "        Restoration Expenditures\n",
    "        Political Expenditures\n",
    "        National Product Demand\n",
    "        Military Training Demand\n",
    "        Logistic Demand\n",
    "        Import Tariff\n",
    "        Days\n",
    "        Yield\n",
    "        Number of Tasks\n",
    "        Cost\n",
    "        Number of Province\n",
    "        Number of Divisions\n",
    "        Expenditures Buff\n",
    "        Revenue Buff\n",
    "        Production Buff\n",
    "        Global Expenditure Effect\n",
    "        Global Revenue Effect\n",
    "        Global Production Effect\n",
    "        Fiscal Expenditure Effect\n",
    "        Extra Trade Revenue Effect\n",
    "        Factory Production Cost Revisions\n",
    "    \"\"\"\n",
    "    def __init__(\n",
    "            self, facility, product, equipment, social_expenditure, \n",
    "            internal_revenue, effects, currency, tax, trade, revision, time\n",
    "        ) -> object:\n",
    "        \"\"\"\n",
    "        This part defines the basic parameters of the economy module.\n",
    "\n",
    "        :param facility: Number of facilities of each type in the country: \n",
    "            {\n",
    "                'civilian factory': float, 'military factory': float, \n",
    "                'army fortress': float, 'anti-aircraft gun': float\n",
    "            } \n",
    "            (values in block) (dict)\n",
    "        :param poduct: Quantity of each type of product in the country: \n",
    "            {\n",
    "                'agro-pastoral': float, 'synthetic fiber': float, \n",
    "                'chemicals': float, 'light industrial': float\n",
    "            } \n",
    "            (values in kilograms) (dict)\n",
    "        :param equipment: Quantity of each type of equipment in the country: {\n",
    "            '7.63mm automatic pistol': int,\n",
    "            '7.62mm semi-automatic rifle': int,\n",
    "            '9mm submachine gun': int,\n",
    "            '7.92mm heavy and light machine gun': int,\n",
    "            '82mm mortar': int,\n",
    "            '75mm field artillery': int,\n",
    "            '115mm howitzer': int,\n",
    "            '37mm anti-tank gun': int,\n",
    "            'PzKpfw I light tank': int,\n",
    "            'T-26 light tank': int,\n",
    "            'truck': int,\n",
    "            'fighter aircraft': int\n",
    "        } (dict)\n",
    "        :param social_expenditure: \n",
    "            Policy, military, and employee expenditure (float)\n",
    "        :param internal_revenue: Domestic taxes (float)\n",
    "        :param effects: \n",
    "            Implications of aspects derived from the political module: {\n",
    "            'global expenditures': float,\n",
    "            'global production': float,\n",
    "            'global revenue': float, \n",
    "            'fiscal expenditure': float,\n",
    "            'extra trade revenue': float\n",
    "        }\n",
    "        :param currency: \n",
    "            Current volume of currency (in tens of thousands) (float)\n",
    "        :param tax: Import tariff rate (float)\n",
    "        :param trade: Transactions of goods and funds through trade: {\n",
    "            'agro-pastoral': (import, export) (float, float),\n",
    "            'synthetic fiber': (import, export) (float, float),\n",
    "            'chemicals': (import, export) (float, float),\n",
    "            'light industrial': (import, export) (float, float),\n",
    "            '7.63mm automatic pistol': (import, export) (int, int),\n",
    "            '7.62mm semi-automatic rifle': (import, export) (int, int),\n",
    "            '9mm submachine gun': (import, export) (int, int),\n",
    "            '7.92mm heavy and light machine gun': (import, export) (int, int),\n",
    "            '82mm mortar': (import, export) (int, int),\n",
    "            '75mm field artillery': (import, export) (int, int),\n",
    "            '115mm howitzer': (import, export) (int, int),\n",
    "            '37mm anti-tank gun': (import, export) (int, int),\n",
    "            'PzKpfw I light tank': (import, export) (int, int),\n",
    "            'T-26 light tank': (import, export) (int, int),\n",
    "            'truck': (import, export) (int, int),\n",
    "            'fighter aircraft': (import, export) (int, int)\n",
    "        } (dict)\n",
    "        :param revision: Factory production cost revisions {\n",
    "            yield: float,\n",
    "            cost: float,\n",
    "            income: float\n",
    "        } (dict)\n",
    "        :param time: Number of days the turn lasts (int)\n",
    "        \"\"\"\n",
    "        ...\n",
    "    def production(self, production) -> list:\n",
    "        \"\"\"\n",
    "        This section defines the specific mechanics of production tasks.\n",
    "\n",
    "        :param production: \n",
    "            Storage of goods produced and number of plants allocated \n",
    "            {product type: factory number, product type: factory number, ...}\n",
    "        :return: Product, Product expenditure\n",
    "        \"\"\"\n",
    "        ...\n",
    "    def construction(self, construction) -> list:\n",
    "        \"\"\"\n",
    "        This section defines the specific mechanics of construction tasks.\n",
    "\n",
    "        :param construction: Type and number of facilities built for storage \n",
    "            {facility type: number, facility type: number, ...}\n",
    "        :return: Construction progress, Construction expenditure\n",
    "        \"\"\"\n",
    "        ...\n",
    "    def restoration(self, restoration) -> list:\n",
    "        \"\"\"\n",
    "        This section defines the specific mechanics of restoration tasks.\n",
    "\n",
    "        :param restoration: Type and number of facilities restored for storage \n",
    "            {facility type: number, facility type: number, ...}\n",
    "        :return: Restoration progress, Restoration expenditure\n",
    "        \"\"\"\n",
    "        ...\n",
    "    def implementation(self, *args) -> list:\n",
    "        \"\"\"\n",
    "        This section defines the specific mechanics of economic implementation.\n",
    "\n",
    "        :param args: \n",
    "            Includes other expenditure: \n",
    "                product, construction, restoration (tuple)\n",
    "        :return: \n",
    "            Total expenditure \n",
    "                (social, product, construction, restoration, trade), \n",
    "            Total revenue (tax, tariff), Volume of change in currency\n",
    "        \"\"\"\n",
    "        ...\n",
    "    def demand(self, province) -> dict:\n",
    "        \"\"\"\n",
    "        This section defines \n",
    "        the specific mechanics of domestic economic demand.\n",
    "\n",
    "        :param province: Number of provinces (int)\n",
    "        :return: National product demand\n",
    "        \"\"\"\n",
    "        ...\n",
    "    def training(self, training, soldier) -> list:\n",
    "        \"\"\"\n",
    "        This section defines the specific mechanics of military training.\n",
    "\n",
    "        :param training: Type of army and number for storage \n",
    "            {military type: number, military type: number, ...} (dict)\n",
    "        :param soldier: Number of soldiers (in 10,000 persons) (float)\n",
    "        :return: Military training demand, Solider\n",
    "        \"\"\"\n",
    "        ...\n",
    "    def logistic(self, logistic) -> list:\n",
    "        \"\"\"\n",
    "        This section defines the specific mechanics of military logistic.\n",
    "\n",
    "        :param logistic: \n",
    "            Type of stockpiled military forces and replenishment base: \n",
    "            [(military type, base), (military type, base), ...] (list)\n",
    "        \"\"\"\n",
    "        ...\n",
    "    def update(\n",
    "            self, product, construction_progress, restoration_progress, \n",
    "            economic_demand, training_demand, logistic_demand\n",
    "        ) -> list:\n",
    "        \"\"\"\n",
    "        This section defines the specific mechanics of state warehouse.\n",
    "\n",
    "        :param product: (dict)\n",
    "        :param construction_progress: (dict)\n",
    "        :param restoration_progress: (dict)\n",
    "        :param economic_demand: (dict)\n",
    "        :param training_demand: (dict)\n",
    "        :param logistic_demand: (dict)\n",
    "        :return: facility, product, equipment\n",
    "        \"\"\"\n",
    "        ...\n",
    "        def value(y_dict, dict, operation_type):\n",
    "            \"\"\"\n",
    "            This nested function defines \n",
    "            the generation of the value update of the dictionary.\n",
    "\n",
    "            :param y_dict: Value to be updated (dict)\n",
    "            :param dict: Amount of change in value (dict)\n",
    "            :param operation_type: addition, subtraction (str)\n",
    "            \"\"\"\n",
    "            ..."
   ]
  },
  {
   "cell_type": "markdown",
   "metadata": {},
   "source": [
    "### <font face='Times New Roman'>*Production*</font>"
   ]
  },
  {
   "cell_type": "markdown",
   "metadata": {},
   "source": [
    "<font face='Times New Roman'>**Let**:</font>\n",
    "\n",
    "- <font face='Times New Roman'>***Production***</font> —> $\\rho$\n",
    "- <font face='Times New Roman'>***Days***</font> —> $\\beta$\n",
    "- <font face='Times New Roman'>***Yield***</font> —> $y$\n",
    "\n",
    "$$\n",
    "y = \\rho \\cdot \\beta\n",
    "$$"
   ]
  },
  {
   "cell_type": "markdown",
   "metadata": {},
   "source": [
    "### <font face='Times New Roman'>*Construction/Restoration Expenditures*</font>"
   ]
  },
  {
   "cell_type": "markdown",
   "metadata": {},
   "source": [
    "<font face='Times New Roman'>**Let**:</font>\n",
    "\n",
    "- <font face='Times New Roman'>***Expenditures***</font> —> $\\psi$\n",
    "- <font face='Times New Roman'>***Cost*** of **product/equipment**</font> —> $\\zeta$\n",
    "- <font face='Times New Roman'>***Yield*** of **product/equipment**</font> —> $\\varpi$\n",
    "- <font face='Times New Roman'>**Number** of ***construction/restoration tasks***</font> —> $\\varsigma$\n",
    "\n",
    "$$\n",
    "\\psi = \\sum_{i=1}^{\\varsigma}{\\varpi _{i} \\cdot \\zeta _{i}}\n",
    "$$"
   ]
  },
  {
   "cell_type": "markdown",
   "metadata": {},
   "source": [
    "### <font face='Times New Roman'>*National Product Demand*</font>"
   ]
  },
  {
   "cell_type": "markdown",
   "metadata": {},
   "source": [
    "<font face='Times New Roman'>**Let**:</font>\n",
    "\n",
    "- <font face='Times New Roman'>***Demand***</font> —> $\\iota$\n",
    "- <font face='Times New Roman'>***Demand*** of **product**</font> —> $d$\n",
    "- <font face='Times New Roman'>***Type*** of **product**</font> —> $t$\n",
    "- <font face='Times New Roman'>**Number** of ***province***</font> —> $\\tau$\n",
    "\n",
    "$$\n",
    "\\iota = \\sum_{i=1}^{t}{\\tau _{i} \\cdot d_{i}}\n",
    "$$"
   ]
  },
  {
   "cell_type": "markdown",
   "metadata": {},
   "source": [
    "### <font face='Times New Roman'>*Military Training/Logistic Demand*</font>"
   ]
  },
  {
   "cell_type": "markdown",
   "metadata": {},
   "source": [
    "<font face='Times New Roman'>**Let**:</font>\n",
    "\n",
    "- <font face='Times New Roman'>***Demand***</font> —> $\\chi$\n",
    "- <font face='Times New Roman'>***Demand*** of **equipment/product**</font> —> $e$\n",
    "- <font face='Times New Roman'>***Type*** of **equipment/product**</font> —> $s$\n",
    "- <font face='Times New Roman'>**Number** of ***divisions***</font> —> $\\delta$\n",
    "\n",
    "$$\n",
    "\\chi = \\sum_{i=1}^{s}{\\delta _{i} \\cdot e_{i}}\n",
    "$$"
   ]
  },
  {
   "cell_type": "markdown",
   "metadata": {},
   "source": [
    "### <font face='Times New Roman'>*Import Tariff*</font>"
   ]
  },
  {
   "cell_type": "markdown",
   "metadata": {},
   "source": [
    "<font face='Times New Roman'>**Let**:</font>\n",
    "\n",
    "- <font face='Times New Roman'>***Revenue***</font> —> $\\lambda$\n",
    "- <font face='Times New Roman'>***Import value***</font> —> $\\alpha$\n",
    "- <font face='Times New Roman'>***Tax rate***</font> —> $r$\n",
    "\n",
    "$$\n",
    "\\lambda = \\alpha \\cdot r\n",
    "$$"
   ]
  },
  {
   "cell_type": "markdown",
   "metadata": {},
   "source": [
    "### <font face='Times New Roman'>*Buff*</font>"
   ]
  },
  {
   "cell_type": "markdown",
   "metadata": {},
   "source": [
    "<font face='Times New Roman'>**Let**:</font>\n",
    "\n",
    "- <font face='Times New Roman'>***Expenditures buff***</font> —> $e$\n",
    "- <font face='Times New Roman'>***Revenue buff***</font> —> $r$\n",
    "- <font face='Times New Roman'>***Production buff***</font> —> $p$\n",
    "- <font face='Times New Roman'>***Global expenditure*** **effect**</font> —> $\\varepsilon$\n",
    "- <font face='Times New Roman'>***Global revenue*** **effect**</font> —> $\\mu$\n",
    "- <font face='Times New Roman'>***Global production*** **effect**</font> —> $\\nu$\n",
    "- <font face='Times New Roman'>***Fiscal expenditure*** **effect**</font> —> $\\varepsilon_{fi}$\n",
    "- <font face='Times New Roman'>***Extra trade revenue*** **effect**</font> —> $\\mu_{ed}$\n",
    "- <font face='Times New Roman'>Factory ***production cost*** **revisions**</font> —> $\\vartheta$\n",
    "\n",
    "$$\n",
    "e = (1 + \\varepsilon + \\varepsilon _{fi}) \\cdot (1 + \\vartheta) \\\\\n",
    "r = (1 + \\mu) \\cdot (1 + \\mu _{ed}) \\cdot (1 + \\vartheta) \\\\\n",
    "p = (1 + \\nu) \\cdot (1 + \\vartheta)\n",
    "$$"
   ]
  },
  {
   "cell_type": "markdown",
   "metadata": {},
   "source": [
    "## <font face='Times New Roman'>*Military*</font>"
   ]
  },
  {
   "cell_type": "markdown",
   "metadata": {},
   "source": [
    "<font face='Times New Roman'>\n",
    "\n",
    "The main calculation variables in the economic section are:\n",
    "</font>\n",
    "\n",
    "- <font face='Times New Roman'>Strength</font>\n",
    "- <font face='Times New Roman'>Support Ratio</font>\n",
    "- <font face='Times New Roman'>Attrition Rate Threshold</font>\n",
    "- <font face='Times New Roman'>Combat Effectiveness Factor</font>\n",
    "- <font face='Times New Roman'>Non-Combatant Attrition Factor</font>\n",
    "- <font face='Times New Roman'>Initial Troops</font>"
   ]
  },
  {
   "cell_type": "code",
   "execution_count": null,
   "metadata": {},
   "outputs": [],
   "source": [
    "class Military(object):\n",
    "    \"\"\"\n",
    "    The Military module of the strategic simulation system\n",
    "\n",
    "    Attributes:\n",
    "        Strength\n",
    "        Support Ratio\n",
    "        Attrition Rate Threshold\n",
    "        Combat Effectiveness Factor\n",
    "        Non-Combatant Attrition Factor\n",
    "        Initial Troops\n",
    "        Division of Troops\n",
    "        Division of Strength\n",
    "        Morale of Troops\n",
    "        Topography Modification\n",
    "        Experience Modification\n",
    "        Supply Modification\n",
    "        Air Power Modification\n",
    "        Tactic Modification\n",
    "        Non-Combatant Attrition Baseline\n",
    "        Attrition Rate Baseline\n",
    "        National Specificities Effect\n",
    "    \"\"\"\n",
    "    def __init__(\n",
    "            self, divisions, reinforcement, topography, combatant, experience, \n",
    "            morale, surround, time, **kwargs\n",
    "        ) -> object:\n",
    "        \"\"\"\n",
    "        This part defines the basic parameters of the military module.\n",
    "\n",
    "        :param divisions: \n",
    "            Components of military units: \n",
    "                {'Reserve': int, 'Garrison': int, 'Field': int} (dict)\n",
    "        :param reinforcement: Components of reinforcement units: \n",
    "            {\n",
    "                'Reserve': ((distance, speed correction), ...), \n",
    "                'Garrison': ((distance, speed correction), ...), \n",
    "                'Field': ((distance, speed correction), ...)\n",
    "            } (dict)\n",
    "        :param topography: \n",
    "            Situation of the terrain where the fighting took place: \n",
    "                Hilly, Mountain, Forest, Swamp, Desert, City, Fortress (str)\n",
    "        :param combatant: Battle type: attack, defence (str)\n",
    "        :param experience: Soldier's experience level: 1, 2, 3, 4, 5 (int)\n",
    "        :param morale: Warrior morale index: 0.8~1.2 (float)\n",
    "        :param surround: \n",
    "            Whether or not the troops are surrounded: True, False (bool)\n",
    "        :param time: Number of days the turn lasts (int)\n",
    "        :param kwargs: Includes other factors: \n",
    "            supply, air power, tactic, national specificities, \n",
    "            whose values are filled in artificially (dict)\n",
    "        \"\"\"\n",
    "        ...\n",
    "    def correction(self) -> list:\n",
    "        \"\"\"\n",
    "        This section defines \n",
    "        the specific mechanics of combat power modification.\n",
    "        \n",
    "        :return: \n",
    "            Initial troops, Combat effectiveness factor, \n",
    "            Attrition rate threshold, Non-combatant attrition factor\n",
    "        \"\"\"\n",
    "        ...\n",
    "    def support(self) -> list:\n",
    "        \"\"\"\n",
    "        This section defines the specific mechanics of support ratio.\n",
    "        \n",
    "        :return: \n",
    "            support ratio: \n",
    "                [\n",
    "                    (day 1 troop, day 1 Combat factor), \n",
    "                    (day 2 troop, day 2 Combat factor), ...\n",
    "                ]\n",
    "        \"\"\"\n",
    "        ...\n",
    "def combat(\n",
    "        attacker, defender, a, d, nona, nond, thra, thrd, u, v, time, title\n",
    "    ) -> list:\n",
    "    \"\"\"\n",
    "    Conduct a combat assessment\n",
    "    \n",
    "    :param aggressor: Attacker's initial strength\n",
    "    :param defender: Defender's initial strength\n",
    "    :param a: Attacker's combat attrition rate\n",
    "    :param d: Defense's combat attrition rate\n",
    "    :param nona: Offense's non-combat attrition rate\n",
    "    :param nond: Defense's non-combat attrition rate\n",
    "    :param thra: Maximum attrition rate threshold for the offense\n",
    "    :param thrd: Maximum attrition rate threshold for the defense\n",
    "    :param u: \n",
    "        Attacker's reinforcement rate: \n",
    "            [\n",
    "                (day 1 troop, day 1 Combat factor), \n",
    "                (day 2 troop, day 2 Combat factor), ...\n",
    "            ]\n",
    "    :param v: \n",
    "        Defender's reinforcement rate: \n",
    "        [\n",
    "            (day 1 troop, day 1 Combat factor), \n",
    "            (day 2 troop, day 2 Combat factor), ...\n",
    "        ]\n",
    "    :param time: Battle duration\n",
    "    :param title: Image title\n",
    "    :return: Offensive losses, Defensive losses\n",
    "    \"\"\""
   ]
  },
  {
   "cell_type": "markdown",
   "metadata": {},
   "source": [
    "### <font face='Times New Roman'>*Strength*</font>"
   ]
  },
  {
   "cell_type": "markdown",
   "metadata": {},
   "source": [
    "<font face='Times New Roman'>**Let**:</font>\n",
    "\n",
    "- <font face='Times New Roman'>***Strength***</font> —> $\\chi$\n",
    "- <font face='Times New Roman'>***Division*** of **troops**</font> —> $e$\n",
    "- <font face='Times New Roman'>***Division*** of **strength**</font> —> $s$\n",
    "- <font face='Times New Roman'>***Troops***</font> —> $\\delta$\n",
    "\n",
    "$$\n",
    "\\chi = \\frac{\\sum{e \\cdot s}}{\\delta}\n",
    "$$"
   ]
  },
  {
   "cell_type": "markdown",
   "metadata": {},
   "source": [
    "### <font face='Times New Roman'>*Combat Effectiveness Factor*</font>"
   ]
  },
  {
   "cell_type": "markdown",
   "metadata": {},
   "source": [
    "<font face='Times New Roman'>**Let**:</font>\n",
    "\n",
    "- <font face='Times New Roman'>***Strength***</font> —> $\\chi$\n",
    "- <font face='Times New Roman'>***Morale*** of **troops**</font> —> $\\gamma$\n",
    "- <font face='Times New Roman'>***Topography modification***</font> —> $t$\n",
    "- <font face='Times New Roman'>***Experience modification***</font> —> $e$\n",
    "- <font face='Times New Roman'>***Supply modification***</font> —> $s$\n",
    "- <font face='Times New Roman'>***Air power modification***</font> —> $a$\n",
    "- <font face='Times New Roman'>***Tactic modification***</font> —> $\\tau$\n",
    "- <font face='Times New Roman'>***Combat effectiveness factor***</font> —> $\\varphi$\n",
    "\n",
    "$$\n",
    "\\varphi = \\chi ^{\\gamma} \\cdot (1 + t) \\cdot (1 + e) \\cdot (1 + s) \\cdot (1 + \\tau) \\cdot (1 + a)\n",
    "$$"
   ]
  },
  {
   "cell_type": "markdown",
   "metadata": {},
   "source": [
    "### <font face='Times New Roman'>*Non-Combatant Attrition Factor*</font>"
   ]
  },
  {
   "cell_type": "markdown",
   "metadata": {},
   "source": [
    "<font face='Times New Roman'>**Let**:</font>\n",
    "\n",
    "- <font face='Times New Roman'>***Morale*** of **troops**</font> —> $\\gamma$\n",
    "- <font face='Times New Roman'>***Non-combatant attrition baseline***</font> —> $\\omega_{0}$\n",
    "- <font face='Times New Roman'>***Supply modification***</font> —> $s$\n",
    "- <font face='Times New Roman'>***Air power modification***</font> —> $a$\n",
    "- <font face='Times New Roman'>***Tactic modification***</font> —> $\\tau$\n",
    "- <font face='Times New Roman'>***Combat effectiveness factor***</font> —> $\\omega$\n",
    "\n",
    "$$\n",
    "\\omega = \\omega _{0} ^{\\gamma} \\cdot (1 + s) \\cdot (1 + a) \\cdot (1 + \\tau)\n",
    "$$"
   ]
  },
  {
   "cell_type": "markdown",
   "metadata": {},
   "source": [
    "### <font face='Times New Roman'>*Attrition Rate Threshold*</font>"
   ]
  },
  {
   "cell_type": "markdown",
   "metadata": {},
   "source": [
    "<font face='Times New Roman'>**Let**:</font>\n",
    "\n",
    "- <font face='Times New Roman'>***Morale*** of **troops**</font> —> $\\gamma$\n",
    "- <font face='Times New Roman'>***Attrition rate baseline***</font> —> $\\rho_{0}$\n",
    "- <font face='Times New Roman'>***Topography modification***</font> —> $t$\n",
    "- <font face='Times New Roman'>***Supply modification***</font> —> $s$\n",
    "- <font face='Times New Roman'>***Air power modification***</font> —> $a$\n",
    "- <font face='Times New Roman'>***Tactic modification***</font> —> $\\tau$\n",
    "- <font face='Times New Roman'>***Attrition rate threshold***</font> —> $\\rho$\n",
    "\n",
    "$$\n",
    "\\rho = \\left\\{\n",
    "  \\begin{array}{ll}\n",
    "    \\rho _{0} ^{\\gamma} \\cdot (1 + s) \\cdot (1 + a) \\cdot (1 + \\tau) & \\text{if the troops are not surrounded} \\\\\n",
    "    \\rho _{0} ^{\\gamma} \\cdot (1 + t) \\cdot (1 + s) \\cdot (1 + a) \\cdot (1 + \\tau) & \\text{if the troops are surrounded}\n",
    "  \\end{array}\n",
    "\\right.\n",
    "$$"
   ]
  },
  {
   "cell_type": "markdown",
   "metadata": {},
   "source": [
    "### <font face='Times New Roman'>*Buff*</font>"
   ]
  },
  {
   "cell_type": "markdown",
   "metadata": {},
   "source": [
    "<font face='Times New Roman'>**Let**:</font>\n",
    "\n",
    "- <font face='Times New Roman'>***Strength buff***</font> —> $e$\n",
    "- <font face='Times New Roman'>National ***specificities*** **effect**</font> —> $\\varepsilon$\n",
    "\n",
    "$$\n",
    "e = 1 + \\varepsilon\n",
    "$$"
   ]
  },
  {
   "cell_type": "markdown",
   "metadata": {},
   "source": [
    "### <font face='Times New Roman'>*Lanchester Equation*</font>"
   ]
  },
  {
   "cell_type": "markdown",
   "metadata": {},
   "source": [
    "<font face='Times New Roman'><p style='text-align:justify'>Lanchester's equations are a pair of differential equations used to model the dynamics of military combat. They were developed by Frederick William Lanchester in the early 20th century as a way to describe the behavior of opposing forces in battle.</p></font>  \n",
    "\n",
    "<font face='Times New Roman'><p style='text-align:justify'>The equations make several simplifying assumptions, including that the opposing forces are homogeneous and that the rate of loss of combat effectiveness is proportional to the number of casualties. Based on these assumptions, the equations predict how the relative strengths of the opposing forces will change over time as the battle progresses.</p></font>  \n",
    "\n",
    "<font face='Times New Roman'><p style='text-align:justify'>There are two versions of Lanchester's equations: the linear version, which assumes that combat effectiveness is proportional to the number of units present; and the square-law version, which assumes that combat effectiveness is proportional to the square of the number of units present. The latter version is generally considered to be more realistic, as it takes into account the fact that larger forces are more difficult to defeat.</p></font>  \n",
    "\n",
    "<font face='Times New Roman'><p style='text-align:justify'>Lanchester's equations have been used in a variety of contexts, including military strategy, game theory, and economics. Despite their simplicity, they can provide insights into the dynamics of conflict and the factors that determine the outcome of battles.</p></font>  \n",
    "\n",
    "- <font face='Times New Roman'>Reference</font>\n",
    "  - <font face='Times New Roman'>[***Lanchester, Frederick William. Aircraft in warfare: The dawn of the fourth arm. Constable limited, 1916.***](https://books.google.com/books?hl=zh-CN&lr=&id=fIZCAAAAIAAJ&oi=fnd&pg=PA1&ots=Mj4ck8vZHb&sig=FhZfoyqJKXOdn0WpPLnk4-fIvrg#v=onepage&q&f=false)</font>\n",
    "  - <font face='Times New Roman'>[***Kress, Moshe. \"Lanchester models for irregular warfare.\" Mathematics 8.5 (2020): 737.***](https://www.mdpi.com/2227-7390/8/5/737)</font>\n",
    "  - <font face='Times New Roman'>[***Nan, Jiang, et al. \"Warfare command decision making analysis of information support based on Lanchester equation.\" 2010 Chinese Control and Decision Conference. IEEE, 2010.***](https://ieeexplore.ieee.org/stamp/stamp.jsp?tp=&arnumber=5498187)</font>"
   ]
  },
  {
   "cell_type": "markdown",
   "metadata": {},
   "source": [
    "<font face='Times New Roman'>**Let**:</font>\n",
    "\n",
    "- <font face='Times New Roman'>***Troops*** of A and B forces on day $t$</font> —> $A(t)$, $B(t)$\n",
    "- <font face='Times New Roman'>***Initial troops*** of A and B forces</font> —> $A_{0}$, $B_{0}$\n",
    "- <font face='Times New Roman'>***Combat effectiveness factor*** of A and B forces</font> —> $a$, $b$\n",
    "- <font face='Times New Roman'>***Non-combatant attrition factor*** of A and B forces</font> —> $\\alpha$, $\\beta$\n",
    "- <font face='Times New Roman'>***Support Ratio*** of A and B forces</font> —> $u(t)$, $v(t)$\n",
    "\n",
    "$$\n",
    "\\begin{cases}\n",
    "\\frac{\\mathrm{d} A}{\\mathrm{d} t} = -a B(t) -  \\frac{\\alpha A_{0}}{\\mathrm{d} t} + u(t) \\\\\n",
    "\\frac{\\mathrm{d} B}{\\mathrm{d} t} = -b A(t) -  \\frac{\\alpha B_{0}}{\\mathrm{d} t} + v(t)\n",
    "\\end{cases}\n",
    "$$"
   ]
  },
  {
   "cell_type": "markdown",
   "metadata": {},
   "source": [
    "## <font face='Times New Roman'>*Intelligence*</font>"
   ]
  },
  {
   "cell_type": "markdown",
   "metadata": {},
   "source": [
    "<font face='Times New Roman'>\n",
    "\n",
    "The main calculation variables in the political section are:\n",
    "</font>\n",
    "\n",
    "- <font face='Times New Roman'>Intelligence Action Verdict</font>"
   ]
  },
  {
   "cell_type": "code",
   "execution_count": null,
   "metadata": {},
   "outputs": [],
   "source": [
    "class Intelligence(object):\n",
    "    \"\"\"\n",
    "    The Intelligence module of the strategic simulation system\n",
    "\n",
    "    Attributes:\n",
    "        Intelligence Network Level\n",
    "        Intelligence Action\n",
    "        Target\n",
    "    \"\"\"\n",
    "    def __init__(self, network, action, target) -> object:\n",
    "        \"\"\"\n",
    "        This part defines the basic parameters of the intelligence module.\n",
    "        \n",
    "        :param network: \n",
    "            Intelligence network level in the target country: 0~4 (float)\n",
    "        :param action: \n",
    "            Type of intelligence action: obstruction, sabotage, defense (str)\n",
    "        :param target: \n",
    "            The country targeted by intelligence action (str)\n",
    "        \"\"\"\n",
    "        ...\n",
    "    def verdict(self) -> bool:\n",
    "        \"\"\"\n",
    "        This section defines \n",
    "        the specific mechanics of intelligence action verdict.\n",
    "\n",
    "        :return: The output: True, False\n",
    "        \"\"\"\n",
    "        ...\n",
    "def judgment(resa) -> bool:\n",
    "    \"\"\"\n",
    "    After successful obstruction and sabotage operations \n",
    "    by the intelligence initiating country, \n",
    "    a secondary determination is required \n",
    "    if the target country engages in defense of the intelligence.\n",
    "\n",
    "    :param resa: \n",
    "        Results of intelligence operations determinations \n",
    "        by intelligence attacking state: True, False (bool)\n",
    "    \"\"\"\n",
    "    ..."
   ]
  }
 ],
 "metadata": {
  "language_info": {
   "name": "python"
  }
 },
 "nbformat": 4,
 "nbformat_minor": 2
}
